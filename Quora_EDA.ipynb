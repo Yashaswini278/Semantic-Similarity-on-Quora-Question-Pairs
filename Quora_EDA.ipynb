{
  "nbformat": 4,
  "nbformat_minor": 0,
  "metadata": {
    "colab": {
      "provenance": []
    },
    "kernelspec": {
      "name": "python3",
      "display_name": "Python 3"
    },
    "language_info": {
      "name": "python"
    }
  },
  "cells": [
    {
      "cell_type": "code",
      "execution_count": null,
      "metadata": {
        "colab": {
          "base_uri": "https://localhost:8080/"
        },
        "id": "qPCr4GuJ9sDD",
        "outputId": "2937c867-1fb1-40d3-d679-18cd8bf42a57"
      },
      "outputs": [
        {
          "output_type": "stream",
          "name": "stdout",
          "text": [
            "Mounted at /content/drive\n"
          ]
        }
      ],
      "source": [
        "from google.colab import drive\n",
        "drive.mount('/content/drive')"
      ]
    },
    {
      "cell_type": "code",
      "source": [
        "!unzip /content/drive/MyDrive/Kaggle_Quora_Project/train_csv.zip"
      ],
      "metadata": {
        "colab": {
          "base_uri": "https://localhost:8080/"
        },
        "id": "QIjzIOwx-6xR",
        "outputId": "cafd1823-6356-4fdd-e531-af2a46be49ac"
      },
      "execution_count": null,
      "outputs": [
        {
          "output_type": "stream",
          "name": "stdout",
          "text": [
            "Archive:  /content/drive/MyDrive/Kaggle_Quora_Project/train_csv.zip\n",
            "  inflating: train.csv               \n"
          ]
        }
      ]
    },
    {
      "cell_type": "code",
      "source": [
        "import numpy as np\n",
        "import pandas as pd\n",
        "import seaborn as sns\n",
        "import matplotlib.pyplot as plt"
      ],
      "metadata": {
        "id": "PM5vZqHu_WbJ"
      },
      "execution_count": null,
      "outputs": []
    },
    {
      "cell_type": "code",
      "source": [
        "df = pd.read_csv(\"train.csv\")\n",
        "df.shape"
      ],
      "metadata": {
        "colab": {
          "base_uri": "https://localhost:8080/"
        },
        "id": "ypItXSFf_y18",
        "outputId": "e5cf810b-624e-4bcf-ec97-773f99616d58"
      },
      "execution_count": null,
      "outputs": [
        {
          "output_type": "execute_result",
          "data": {
            "text/plain": [
              "(404290, 6)"
            ]
          },
          "metadata": {},
          "execution_count": 4
        }
      ]
    },
    {
      "cell_type": "code",
      "source": [
        "df.sample(10)"
      ],
      "metadata": {
        "colab": {
          "base_uri": "https://localhost:8080/",
          "height": 363
        },
        "id": "WE-ikMnMAM9B",
        "outputId": "32031046-aea4-4477-ae3b-8d322b99978b"
      },
      "execution_count": null,
      "outputs": [
        {
          "output_type": "execute_result",
          "data": {
            "text/plain": [
              "            id    qid1    qid2  \\\n",
              "262924  262924  379376  379377   \n",
              "295238  295238  417256  255171   \n",
              "228688  228688  337825  337826   \n",
              "320311  320311  334871   68941   \n",
              "373659  373659  401945  504502   \n",
              "189275  189275  287990  287991   \n",
              "253054  253054  367522  367523   \n",
              "399403  399403  198443  532664   \n",
              "104741  104741  172871  172872   \n",
              "78336    78336  133594  133595   \n",
              "\n",
              "                                                question1  \\\n",
              "262924  How can I get good score I cat 2016 if I start...   \n",
              "295238  How much does a ship broker in Singapore earn ...   \n",
              "228688                 What is a class data-type in java?   \n",
              "320311  How can I get enrolled in the best universitie...   \n",
              "373659           How useful has Khan Academy been to you?   \n",
              "189275  Why is the term \"Jupiter's cock\" used so frequ...   \n",
              "253054  I have auditions for farewell anchoring tomorr...   \n",
              "399403                       How do you syndicate a loan?   \n",
              "104741              What is the best budget camera phone?   \n",
              "78336      Does Switzerland have a reputation for racism?   \n",
              "\n",
              "                                                question2  is_duplicate  \n",
              "262924  Is there any evidence that democrats or indepe...             0  \n",
              "295238    How much money does Bill Gates make per second?             0  \n",
              "228688  How can technology companies drive traffic to ...             0  \n",
              "320311  Which university is the best to study medicine...             0  \n",
              "373659   Is Khan Academy useful for engineering students?             1  \n",
              "189275               What are some movies like Spartacus?             0  \n",
              "253054   How can I find a good monologue for an audition?             0  \n",
              "399403                         What is a syndicated loan?             0  \n",
              "104741  Is someone spying on me through my cell phone ...             0  \n",
              "78336                    Is Switzerland a racist country?             1  "
            ],
            "text/html": [
              "\n",
              "  <div id=\"df-045883f8-865c-44e5-b5fc-be7173ff1920\">\n",
              "    <div class=\"colab-df-container\">\n",
              "      <div>\n",
              "<style scoped>\n",
              "    .dataframe tbody tr th:only-of-type {\n",
              "        vertical-align: middle;\n",
              "    }\n",
              "\n",
              "    .dataframe tbody tr th {\n",
              "        vertical-align: top;\n",
              "    }\n",
              "\n",
              "    .dataframe thead th {\n",
              "        text-align: right;\n",
              "    }\n",
              "</style>\n",
              "<table border=\"1\" class=\"dataframe\">\n",
              "  <thead>\n",
              "    <tr style=\"text-align: right;\">\n",
              "      <th></th>\n",
              "      <th>id</th>\n",
              "      <th>qid1</th>\n",
              "      <th>qid2</th>\n",
              "      <th>question1</th>\n",
              "      <th>question2</th>\n",
              "      <th>is_duplicate</th>\n",
              "    </tr>\n",
              "  </thead>\n",
              "  <tbody>\n",
              "    <tr>\n",
              "      <th>262924</th>\n",
              "      <td>262924</td>\n",
              "      <td>379376</td>\n",
              "      <td>379377</td>\n",
              "      <td>How can I get good score I cat 2016 if I start...</td>\n",
              "      <td>Is there any evidence that democrats or indepe...</td>\n",
              "      <td>0</td>\n",
              "    </tr>\n",
              "    <tr>\n",
              "      <th>295238</th>\n",
              "      <td>295238</td>\n",
              "      <td>417256</td>\n",
              "      <td>255171</td>\n",
              "      <td>How much does a ship broker in Singapore earn ...</td>\n",
              "      <td>How much money does Bill Gates make per second?</td>\n",
              "      <td>0</td>\n",
              "    </tr>\n",
              "    <tr>\n",
              "      <th>228688</th>\n",
              "      <td>228688</td>\n",
              "      <td>337825</td>\n",
              "      <td>337826</td>\n",
              "      <td>What is a class data-type in java?</td>\n",
              "      <td>How can technology companies drive traffic to ...</td>\n",
              "      <td>0</td>\n",
              "    </tr>\n",
              "    <tr>\n",
              "      <th>320311</th>\n",
              "      <td>320311</td>\n",
              "      <td>334871</td>\n",
              "      <td>68941</td>\n",
              "      <td>How can I get enrolled in the best universitie...</td>\n",
              "      <td>Which university is the best to study medicine...</td>\n",
              "      <td>0</td>\n",
              "    </tr>\n",
              "    <tr>\n",
              "      <th>373659</th>\n",
              "      <td>373659</td>\n",
              "      <td>401945</td>\n",
              "      <td>504502</td>\n",
              "      <td>How useful has Khan Academy been to you?</td>\n",
              "      <td>Is Khan Academy useful for engineering students?</td>\n",
              "      <td>1</td>\n",
              "    </tr>\n",
              "    <tr>\n",
              "      <th>189275</th>\n",
              "      <td>189275</td>\n",
              "      <td>287990</td>\n",
              "      <td>287991</td>\n",
              "      <td>Why is the term \"Jupiter's cock\" used so frequ...</td>\n",
              "      <td>What are some movies like Spartacus?</td>\n",
              "      <td>0</td>\n",
              "    </tr>\n",
              "    <tr>\n",
              "      <th>253054</th>\n",
              "      <td>253054</td>\n",
              "      <td>367522</td>\n",
              "      <td>367523</td>\n",
              "      <td>I have auditions for farewell anchoring tomorr...</td>\n",
              "      <td>How can I find a good monologue for an audition?</td>\n",
              "      <td>0</td>\n",
              "    </tr>\n",
              "    <tr>\n",
              "      <th>399403</th>\n",
              "      <td>399403</td>\n",
              "      <td>198443</td>\n",
              "      <td>532664</td>\n",
              "      <td>How do you syndicate a loan?</td>\n",
              "      <td>What is a syndicated loan?</td>\n",
              "      <td>0</td>\n",
              "    </tr>\n",
              "    <tr>\n",
              "      <th>104741</th>\n",
              "      <td>104741</td>\n",
              "      <td>172871</td>\n",
              "      <td>172872</td>\n",
              "      <td>What is the best budget camera phone?</td>\n",
              "      <td>Is someone spying on me through my cell phone ...</td>\n",
              "      <td>0</td>\n",
              "    </tr>\n",
              "    <tr>\n",
              "      <th>78336</th>\n",
              "      <td>78336</td>\n",
              "      <td>133594</td>\n",
              "      <td>133595</td>\n",
              "      <td>Does Switzerland have a reputation for racism?</td>\n",
              "      <td>Is Switzerland a racist country?</td>\n",
              "      <td>1</td>\n",
              "    </tr>\n",
              "  </tbody>\n",
              "</table>\n",
              "</div>\n",
              "      <button class=\"colab-df-convert\" onclick=\"convertToInteractive('df-045883f8-865c-44e5-b5fc-be7173ff1920')\"\n",
              "              title=\"Convert this dataframe to an interactive table.\"\n",
              "              style=\"display:none;\">\n",
              "        \n",
              "  <svg xmlns=\"http://www.w3.org/2000/svg\" height=\"24px\"viewBox=\"0 0 24 24\"\n",
              "       width=\"24px\">\n",
              "    <path d=\"M0 0h24v24H0V0z\" fill=\"none\"/>\n",
              "    <path d=\"M18.56 5.44l.94 2.06.94-2.06 2.06-.94-2.06-.94-.94-2.06-.94 2.06-2.06.94zm-11 1L8.5 8.5l.94-2.06 2.06-.94-2.06-.94L8.5 2.5l-.94 2.06-2.06.94zm10 10l.94 2.06.94-2.06 2.06-.94-2.06-.94-.94-2.06-.94 2.06-2.06.94z\"/><path d=\"M17.41 7.96l-1.37-1.37c-.4-.4-.92-.59-1.43-.59-.52 0-1.04.2-1.43.59L10.3 9.45l-7.72 7.72c-.78.78-.78 2.05 0 2.83L4 21.41c.39.39.9.59 1.41.59.51 0 1.02-.2 1.41-.59l7.78-7.78 2.81-2.81c.8-.78.8-2.07 0-2.86zM5.41 20L4 18.59l7.72-7.72 1.47 1.35L5.41 20z\"/>\n",
              "  </svg>\n",
              "      </button>\n",
              "      \n",
              "  <style>\n",
              "    .colab-df-container {\n",
              "      display:flex;\n",
              "      flex-wrap:wrap;\n",
              "      gap: 12px;\n",
              "    }\n",
              "\n",
              "    .colab-df-convert {\n",
              "      background-color: #E8F0FE;\n",
              "      border: none;\n",
              "      border-radius: 50%;\n",
              "      cursor: pointer;\n",
              "      display: none;\n",
              "      fill: #1967D2;\n",
              "      height: 32px;\n",
              "      padding: 0 0 0 0;\n",
              "      width: 32px;\n",
              "    }\n",
              "\n",
              "    .colab-df-convert:hover {\n",
              "      background-color: #E2EBFA;\n",
              "      box-shadow: 0px 1px 2px rgba(60, 64, 67, 0.3), 0px 1px 3px 1px rgba(60, 64, 67, 0.15);\n",
              "      fill: #174EA6;\n",
              "    }\n",
              "\n",
              "    [theme=dark] .colab-df-convert {\n",
              "      background-color: #3B4455;\n",
              "      fill: #D2E3FC;\n",
              "    }\n",
              "\n",
              "    [theme=dark] .colab-df-convert:hover {\n",
              "      background-color: #434B5C;\n",
              "      box-shadow: 0px 1px 3px 1px rgba(0, 0, 0, 0.15);\n",
              "      filter: drop-shadow(0px 1px 2px rgba(0, 0, 0, 0.3));\n",
              "      fill: #FFFFFF;\n",
              "    }\n",
              "  </style>\n",
              "\n",
              "      <script>\n",
              "        const buttonEl =\n",
              "          document.querySelector('#df-045883f8-865c-44e5-b5fc-be7173ff1920 button.colab-df-convert');\n",
              "        buttonEl.style.display =\n",
              "          google.colab.kernel.accessAllowed ? 'block' : 'none';\n",
              "\n",
              "        async function convertToInteractive(key) {\n",
              "          const element = document.querySelector('#df-045883f8-865c-44e5-b5fc-be7173ff1920');\n",
              "          const dataTable =\n",
              "            await google.colab.kernel.invokeFunction('convertToInteractive',\n",
              "                                                     [key], {});\n",
              "          if (!dataTable) return;\n",
              "\n",
              "          const docLinkHtml = 'Like what you see? Visit the ' +\n",
              "            '<a target=\"_blank\" href=https://colab.research.google.com/notebooks/data_table.ipynb>data table notebook</a>'\n",
              "            + ' to learn more about interactive tables.';\n",
              "          element.innerHTML = '';\n",
              "          dataTable['output_type'] = 'display_data';\n",
              "          await google.colab.output.renderOutput(dataTable, element);\n",
              "          const docLink = document.createElement('div');\n",
              "          docLink.innerHTML = docLinkHtml;\n",
              "          element.appendChild(docLink);\n",
              "        }\n",
              "      </script>\n",
              "    </div>\n",
              "  </div>\n",
              "  "
            ]
          },
          "metadata": {},
          "execution_count": 5
        }
      ]
    },
    {
      "cell_type": "code",
      "source": [
        "df.info()"
      ],
      "metadata": {
        "colab": {
          "base_uri": "https://localhost:8080/"
        },
        "id": "q0hZRo0E_6RU",
        "outputId": "cbd901b7-d61b-4b08-8c1e-efb22d0174c0"
      },
      "execution_count": null,
      "outputs": [
        {
          "output_type": "stream",
          "name": "stdout",
          "text": [
            "<class 'pandas.core.frame.DataFrame'>\n",
            "RangeIndex: 404290 entries, 0 to 404289\n",
            "Data columns (total 6 columns):\n",
            " #   Column        Non-Null Count   Dtype \n",
            "---  ------        --------------   ----- \n",
            " 0   id            404290 non-null  int64 \n",
            " 1   qid1          404290 non-null  int64 \n",
            " 2   qid2          404290 non-null  int64 \n",
            " 3   question1     404289 non-null  object\n",
            " 4   question2     404288 non-null  object\n",
            " 5   is_duplicate  404290 non-null  int64 \n",
            "dtypes: int64(4), object(2)\n",
            "memory usage: 18.5+ MB\n"
          ]
        }
      ]
    },
    {
      "cell_type": "code",
      "source": [
        "# Handling missing values\n",
        "df.isnull().sum()"
      ],
      "metadata": {
        "colab": {
          "base_uri": "https://localhost:8080/"
        },
        "id": "aaGhV1s7AGTS",
        "outputId": "eb7585ab-a8b3-44a2-9541-f0a992de4e70"
      },
      "execution_count": null,
      "outputs": [
        {
          "output_type": "execute_result",
          "data": {
            "text/plain": [
              "id              0\n",
              "qid1            0\n",
              "qid2            0\n",
              "question1       1\n",
              "question2       2\n",
              "is_duplicate    0\n",
              "dtype: int64"
            ]
          },
          "metadata": {},
          "execution_count": 11
        }
      ]
    },
    {
      "cell_type": "code",
      "source": [
        "# Duplicate rows check\n",
        "df.duplicated().sum()"
      ],
      "metadata": {
        "colab": {
          "base_uri": "https://localhost:8080/"
        },
        "id": "vFfBlhqxAYti",
        "outputId": "d626af2c-d852-430f-bb11-3b62b186597b"
      },
      "execution_count": null,
      "outputs": [
        {
          "output_type": "execute_result",
          "data": {
            "text/plain": [
              "0"
            ]
          },
          "metadata": {},
          "execution_count": 12
        }
      ]
    },
    {
      "cell_type": "code",
      "source": [
        "# Distribution of is_duplicate\n",
        "df['is_duplicate'].value_counts().plot(kind = 'bar')"
      ],
      "metadata": {
        "colab": {
          "base_uri": "https://localhost:8080/",
          "height": 442
        },
        "id": "nFQQfrGRAkCG",
        "outputId": "66162e35-7437-4434-facd-8ea2706e1986"
      },
      "execution_count": null,
      "outputs": [
        {
          "output_type": "execute_result",
          "data": {
            "text/plain": [
              "<Axes: >"
            ]
          },
          "metadata": {},
          "execution_count": 13
        },
        {
          "output_type": "display_data",
          "data": {
            "text/plain": [
              "<Figure size 640x480 with 1 Axes>"
            ],
            "image/png": "[encoded data removed]"
          },
          "metadata": {}
        }
      ]
    },
    {
      "cell_type": "markdown",
      "source": [
        "A little unbalanced data"
      ],
      "metadata": {
        "id": "mungpdslAz5E"
      }
    },
    {
      "cell_type": "code",
      "source": [
        "# Repeated questions\n",
        "qid = pd.Series(df['qid1'].tolist() + df['qid2'].tolist())\n",
        "print('Number of unique questions', np.unique(qid).shape[0])\n",
        "x = qid.value_counts()>1\n",
        "print('Number of questions getting repeated', x[x].shape[0])"
      ],
      "metadata": {
        "colab": {
          "base_uri": "https://localhost:8080/"
        },
        "id": "TgXlL7AzAxCB",
        "outputId": "e9057472-711f-48b8-8408-c228e900abe7"
      },
      "execution_count": null,
      "outputs": [
        {
          "output_type": "stream",
          "name": "stdout",
          "text": [
            "Number of unique questions 537933\n",
            "Number of questions getting repeated 111780\n"
          ]
        }
      ]
    },
    {
      "cell_type": "code",
      "source": [
        "qid"
      ],
      "metadata": {
        "id": "QoPYrExUBqbl",
        "outputId": "ea5ffc69-5f66-41f6-8372-383e2f6c0257",
        "colab": {
          "base_uri": "https://localhost:8080/"
        }
      },
      "execution_count": null,
      "outputs": [
        {
          "output_type": "execute_result",
          "data": {
            "text/plain": [
              "0              1\n",
              "1              3\n",
              "2              5\n",
              "3              7\n",
              "4              9\n",
              "           ...  \n",
              "808575    379845\n",
              "808576    155606\n",
              "808577    537929\n",
              "808578    537931\n",
              "808579    537933\n",
              "Length: 808580, dtype: int64"
            ]
          },
          "metadata": {},
          "execution_count": 15
        }
      ]
    },
    {
      "cell_type": "code",
      "source": [],
      "metadata": {
        "id": "3kzr3zLGBr11"
      },
      "execution_count": null,
      "outputs": []
    }
  ]
}